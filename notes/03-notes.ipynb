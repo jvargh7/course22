{
 "cells": [
  {
   "cell_type": "markdown",
   "metadata": {},
   "source": [
    "Coming from fastbook/04_mnist_basics.ipynb"
   ]
  },
  {
   "cell_type": "code",
   "execution_count": 4,
   "metadata": {},
   "outputs": [],
   "source": [
    "! pip install -Uqq fastbook\n",
    "import fastbook\n",
    "fastbook.setup_book()"
   ]
  },
  {
   "cell_type": "code",
   "execution_count": 6,
   "metadata": {},
   "outputs": [],
   "source": [
    "#hide\n",
    "from fastai.vision.all import *\n",
    "from fastbook import *\n",
    "\n",
    "matplotlib.rc('image', cmap='Greys')"
   ]
  },
  {
   "cell_type": "raw",
   "metadata": {
    "vscode": {
     "languageId": "raw"
    }
   },
   "source": [
    "00:00 Introduction and survey\n",
    "01:36 \"Lesson 0\" How to fast.ai\n",
    "02:25 How to do a fastai lesson\n",
    "04:28 How to not self-study\n",
    "05:28 Highest voted student work\n",
    "07:56 Pets breeds detector\n",
    "08:52 Paperspace\n",
    "10:16 JupyterLab\n",
    "12:11 Make a better pet detector\n",
    "13:47 Comparison of all (image) models\n",
    "15:49 Try out new models\n",
    "19:22 Get the categories of a model\n",
    "20:40 What’s in the model\n",
    "21:23 What does model architecture look like\n",
    "22:15 Parameters of a model\n",
    "23:36 Create a general quadratic function\n",
    "27:20 Fit a function by good hands and eyes\n",
    "30:58 Loss functions\n",
    "33:39 Automate the search of parameters for better loss\n",
    "42:45 The mathematical functions\n",
    "43:18 ReLu: Rectified linear function\n",
    "45:17 Infinitely complex function\n",
    "49:21 A chart of all image models compared\n",
    "52:11 Do I have enough data?\n",
    "54:56 Interpret gradients in unit?\n",
    "56:23 Learning rate\n",
    "1:00:14 Matrix multiplication\n",
    "1:04:22 Build a regression model in spreadsheet\n",
    "1:16:18 Build a neuralnet by adding two regression models\n",
    "1:18:31 Matrix multiplication makes training faster\n",
    "1:21:01 Watch out! it’s chapter 4\n",
    "1:22:31 Create dummy variables of 3 classes\n",
    "1:23:34 Taste NLP\n",
    "1:27:29 fastai NLP library vs Hugging Face library\n",
    "1:28:54 Homework to prepare you for the next lesson"
   ]
  },
  {
   "cell_type": "markdown",
   "metadata": {},
   "source": [
    "Code for min 17 onwards: https://www.kaggle.com/code/jvargh7/02a-train"
   ]
  },
  {
   "cell_type": "raw",
   "metadata": {
    "vscode": {
     "languageId": "plaintext"
    }
   },
   "source": [
    "learn.model \n",
    "- how to grab the model\n",
    "\n",
    "TimmBody:\n",
    "- model: \n",
    "- stem\n",
    "- stages"
   ]
  },
  {
   "cell_type": "code",
   "execution_count": null,
   "metadata": {},
   "outputs": [],
   "source": [
    "m = learn.model\n",
    "l = m.get_submodule('0.model.stem.1') # gets the layer\n",
    "list(l.parameters()) # gets the parametersm"
   ]
  },
  {
   "cell_type": "markdown",
   "metadata": {
    "vscode": {
     "languageId": "plaintext"
    }
   },
   "source": [
    "### Part 3. Functions"
   ]
  },
  {
   "cell_type": "code",
   "execution_count": 8,
   "metadata": {},
   "outputs": [
    {
     "name": "stdout",
     "output_type": "stream",
     "text": [
      "\u001b[31mSignature:\u001b[39m\n",
      "plot_function(\n",
      "    f,\n",
      "    tx=\u001b[38;5;28;01mNone\u001b[39;00m,\n",
      "    ty=\u001b[38;5;28;01mNone\u001b[39;00m,\n",
      "    title=\u001b[38;5;28;01mNone\u001b[39;00m,\n",
      "    min=-\u001b[32m2\u001b[39m,\n",
      "    max=\u001b[32m2\u001b[39m,\n",
      "    figsize=(\u001b[32m6\u001b[39m, \u001b[32m4\u001b[39m),\n",
      ")\n",
      "\u001b[31mDocstring:\u001b[39m <no docstring>\n",
      "\u001b[31mFile:\u001b[39m      ~/miniforge3/lib/python3.12/site-packages/fastbook/__init__.py\n",
      "\u001b[31mType:\u001b[39m      function"
     ]
    }
   ],
   "source": [
    "?plot_function"
   ]
  },
  {
   "cell_type": "code",
   "execution_count": 16,
   "metadata": {},
   "outputs": [
    {
     "data": {
      "image/png": "[encoded data removed]",
      "text/plain": [
       "<Figure size 600x400 with 1 Axes>"
      ]
     },
     "metadata": {},
     "output_type": "display_data"
    }
   ],
   "source": [
    "def f(x): return 3*x**2 + 2*x + 1\n",
    "plot_function(f,\"$3x^2 + 2x + 1$\")"
   ]
  },
  {
   "cell_type": "code",
   "execution_count": 17,
   "metadata": {},
   "outputs": [],
   "source": [
    "def quad(a,b,c,x): return a*x**2 + b*x + c"
   ]
  },
  {
   "cell_type": "code",
   "execution_count": 18,
   "metadata": {},
   "outputs": [
    {
     "data": {
      "text/plain": [
       "10.75"
      ]
     },
     "execution_count": 18,
     "metadata": {},
     "output_type": "execute_result"
    }
   ],
   "source": [
    "quad(3,2,1,1.5)"
   ]
  },
  {
   "cell_type": "code",
   "execution_count": 19,
   "metadata": {},
   "outputs": [],
   "source": [
    "# Useful functionality of python\n",
    "# This creates an object (partial function) that can then be used\n",
    "from functools import partial\n",
    "def mk_quad(a,b,c): return partial(quad, a,b,c)"
   ]
  },
  {
   "cell_type": "code",
   "execution_count": null,
   "metadata": {},
   "outputs": [
    {
     "data": {
      "text/plain": [
       "34"
      ]
     },
     "execution_count": 49,
     "metadata": {},
     "output_type": "execute_result"
    }
   ],
   "source": [
    "f = mk_quad(3,2,1)\n",
    "f(3)"
   ]
  },
  {
   "cell_type": "code",
   "execution_count": 105,
   "metadata": {},
   "outputs": [
    {
     "data": {
      "text/plain": [
       "functools.partial(<function quad at 0x7f7625c09d00>, 3, 2, 1)"
      ]
     },
     "execution_count": 105,
     "metadata": {},
     "output_type": "execute_result"
    }
   ],
   "source": [
    "f"
   ]
  },
  {
   "cell_type": "code",
   "execution_count": 104,
   "metadata": {},
   "outputs": [
    {
     "name": "stdout",
     "output_type": "stream",
     "text": [
      "\u001b[31mSignature:\u001b[39m\n",
      "plot_function(\n",
      "    f,\n",
      "    tx=\u001b[38;5;28;01mNone\u001b[39;00m,\n",
      "    ty=\u001b[38;5;28;01mNone\u001b[39;00m,\n",
      "    title=\u001b[38;5;28;01mNone\u001b[39;00m,\n",
      "    min=-\u001b[32m2\u001b[39m,\n",
      "    max=\u001b[32m2\u001b[39m,\n",
      "    figsize=(\u001b[32m6\u001b[39m, \u001b[32m4\u001b[39m),\n",
      ")\n",
      "\u001b[31mDocstring:\u001b[39m <no docstring>\n",
      "\u001b[31mSource:\u001b[39m   \n",
      "\u001b[38;5;28;01mdef\u001b[39;00m plot_function(f, tx=\u001b[38;5;28;01mNone\u001b[39;00m, ty=\u001b[38;5;28;01mNone\u001b[39;00m, title=\u001b[38;5;28;01mNone\u001b[39;00m, min=-\u001b[32m2\u001b[39m, max=\u001b[32m2\u001b[39m, figsize=(\u001b[32m6\u001b[39m,\u001b[32m4\u001b[39m)):\n",
      "    x = torch.linspace(min,max, \u001b[32m100\u001b[39m)\n",
      "    fig,ax = plt.subplots(figsize=figsize)\n",
      "    ax.plot(x,f(x))\n",
      "    \u001b[38;5;28;01mif\u001b[39;00m tx \u001b[38;5;28;01mis\u001b[39;00m \u001b[38;5;28;01mnot\u001b[39;00m \u001b[38;5;28;01mNone\u001b[39;00m: ax.set_xlabel(tx)\n",
      "    \u001b[38;5;28;01mif\u001b[39;00m ty \u001b[38;5;28;01mis\u001b[39;00m \u001b[38;5;28;01mnot\u001b[39;00m \u001b[38;5;28;01mNone\u001b[39;00m: ax.set_ylabel(ty)\n",
      "    \u001b[38;5;28;01mif\u001b[39;00m title \u001b[38;5;28;01mis\u001b[39;00m \u001b[38;5;28;01mnot\u001b[39;00m \u001b[38;5;28;01mNone\u001b[39;00m: ax.set_title(title)\n",
      "\u001b[31mFile:\u001b[39m      ~/miniforge3/lib/python3.12/site-packages/fastbook/__init__.py\n",
      "\u001b[31mType:\u001b[39m      function"
     ]
    }
   ],
   "source": [
    "??plot_function"
   ]
  },
  {
   "cell_type": "code",
   "execution_count": 51,
   "metadata": {},
   "outputs": [
    {
     "data": {
      "image/png": "[encoded data removed]",
      "text/plain": [
       "<Figure size 600x400 with 1 Axes>"
      ]
     },
     "metadata": {},
     "output_type": "display_data"
    }
   ],
   "source": [
    "plot_function(f)"
   ]
  },
  {
   "cell_type": "markdown",
   "metadata": {},
   "source": [
    "27:20 Fit a function by good hands and eyes"
   ]
  },
  {
   "cell_type": "code",
   "execution_count": 30,
   "metadata": {},
   "outputs": [],
   "source": [
    "# Example of data that matches shape of function\n",
    "\n",
    "from numpy.random import normal, seed, uniform\n",
    "np.random.seed(42)\n",
    "def noise(x, scale): return normal(scale = scale, size = x.shape)\n",
    "def add_noise(x, mult, add): return x * (1+noise(x,mult)) + noise(x,add)\n"
   ]
  },
  {
   "cell_type": "code",
   "execution_count": 52,
   "metadata": {},
   "outputs": [
    {
     "name": "stderr",
     "output_type": "stream",
     "text": [
      "/tmp/ipykernel_58156/3417579300.py:6: DeprecationWarning: __array_wrap__ must accept context and return_scalar arguments (positionally) in the future. (Deprecated NumPy 2.0)\n",
      "  def add_noise(x, mult, add): return x * (1+noise(x,mult)) + noise(x,add)\n"
     ]
    },
    {
     "data": {
      "image/png": "[encoded data removed]",
      "text/plain": [
       "<Figure size 640x480 with 1 Axes>"
      ]
     },
     "metadata": {},
     "output_type": "display_data"
    }
   ],
   "source": [
    "x = torch.linspace(-2, 2, steps = 20)[:, None]\n",
    "y = add_noise(f(x),0.3,1.5)\n",
    "plt.scatter(x,y);"
   ]
  },
  {
   "cell_type": "code",
   "execution_count": 53,
   "metadata": {},
   "outputs": [
    {
     "data": {
      "application/vnd.jupyter.widget-view+json": {
       "model_id": "81cdc55877634247a4bbf505da07320d",
       "version_major": 2,
       "version_minor": 0
      },
      "text/plain": [
       "interactive(children=(FloatSlider(value=1.5, description='a', max=4.5, min=-1.5), FloatSlider(value=1.5, descr…"
      ]
     },
     "metadata": {},
     "output_type": "display_data"
    }
   ],
   "source": [
    "from ipywidgets import interact\n",
    "# Adding it to a function will allow us to play with it\n",
    "@interact (a = 1.5, b = 1.5, c= 1.5)\n",
    "\n",
    "def plot_quad(a,b,c):\n",
    "\n",
    "    plt.scatter(x,y)\n",
    "    plot_function(mk_quad(a,b,c))\n"
   ]
  },
  {
   "cell_type": "code",
   "execution_count": null,
   "metadata": {},
   "outputs": [],
   "source": []
  },
  {
   "cell_type": "markdown",
   "metadata": {},
   "source": [
    "30:58 Loss functions"
   ]
  },
  {
   "cell_type": "code",
   "execution_count": 55,
   "metadata": {},
   "outputs": [],
   "source": [
    "def mse(preds,acts): return (preds - acts).pow(2).mean()"
   ]
  },
  {
   "cell_type": "code",
   "execution_count": 114,
   "metadata": {},
   "outputs": [
    {
     "data": {
      "application/vnd.jupyter.widget-view+json": {
       "model_id": "4927dae33f7b4bfdbebea7527897a966",
       "version_major": 2,
       "version_minor": 0
      },
      "text/plain": [
       "interactive(children=(FloatSlider(value=1.5, description='a', max=4.5, min=-1.5), FloatSlider(value=1.5, descr…"
      ]
     },
     "metadata": {},
     "output_type": "display_data"
    }
   ],
   "source": [
    "@interact(a=1.5, b = 1.5, c= 1.5)\n",
    "\n",
    "\n",
    "def plot_quad(a,b,c):\n",
    "    f = mk_quad(a,b,c)\n",
    "    plt.scatter(x,y)\n",
    "    loss = mse(f(x),y)\n",
    "    plot_function(f,title=f\"MSE: {loss:.2f}\")"
   ]
  },
  {
   "cell_type": "raw",
   "metadata": {
    "vscode": {
     "languageId": "raw"
    }
   },
   "source": [
    "33:39 Automate the search of parameters for better loss"
   ]
  },
  {
   "cell_type": "code",
   "execution_count": 79,
   "metadata": {},
   "outputs": [],
   "source": [
    "def quad_mse(params):\n",
    "    f = mk_quad(*params) # * - takes params and spreads them out into a, b, c\n",
    "    return mse(f(x),y)"
   ]
  },
  {
   "cell_type": "code",
   "execution_count": 81,
   "metadata": {},
   "outputs": [
    {
     "data": {
      "text/plain": [
       "tensor([1.5000, 1.5000, 1.5000], requires_grad=True)"
      ]
     },
     "execution_count": 81,
     "metadata": {},
     "output_type": "execute_result"
    }
   ],
   "source": [
    "abc = torch.tensor([1.5,1.5,1.5]) \n",
    "abc.requires_grad_()"
   ]
  },
  {
   "cell_type": "code",
   "execution_count": 82,
   "metadata": {},
   "outputs": [
    {
     "data": {
      "text/plain": [
       "tensor(12.5973, dtype=torch.float64, grad_fn=<MeanBackward0>)"
      ]
     },
     "execution_count": 82,
     "metadata": {},
     "output_type": "execute_result"
    }
   ],
   "source": [
    "loss = quad_mse(abc) # abc is matched to number of arguments that quad_mse takes\n",
    "# If I add more items to \n",
    "loss"
   ]
  },
  {
   "cell_type": "code",
   "execution_count": 83,
   "metadata": {},
   "outputs": [],
   "source": [
    "# Call backward to get gradients\n",
    "loss.backward()"
   ]
  },
  {
   "cell_type": "code",
   "execution_count": 72,
   "metadata": {},
   "outputs": [
    {
     "data": {
      "text/plain": [
       "tensor([-10.9627,  -0.3835,  -3.6687])"
      ]
     },
     "execution_count": 72,
     "metadata": {},
     "output_type": "execute_result"
    }
   ],
   "source": [
    "abc.grad"
   ]
  },
  {
   "cell_type": "code",
   "execution_count": 117,
   "metadata": {},
   "outputs": [
    {
     "name": "stdout",
     "output_type": "stream",
     "text": [
      "\u001b[31mInit signature:\u001b[39m torch.no_grad() -> \u001b[38;5;28;01mNone\u001b[39;00m\n",
      "\u001b[31mSource:\u001b[39m        \n",
      "\u001b[38;5;28;01mclass\u001b[39;00m no_grad(_NoParamDecoratorContextManager):\n",
      "    \u001b[33mr\"\"\"Context-manager that disables gradient calculation.\u001b[39m\n",
      "\n",
      "\u001b[33m    Disabling gradient calculation is useful for inference, when you are sure\u001b[39m\n",
      "\u001b[33m    that you will not call :meth:`Tensor.backward()`. It will reduce memory\u001b[39m\n",
      "\u001b[33m    consumption for computations that would otherwise have `requires_grad=True`.\u001b[39m\n",
      "\n",
      "\u001b[33m    In this mode, the result of every computation will have\u001b[39m\n",
      "\u001b[33m    `requires_grad=False`, even when the inputs have `requires_grad=True`.\u001b[39m\n",
      "\u001b[33m    There is an exception! All factory functions, or functions that create\u001b[39m\n",
      "\u001b[33m    a new Tensor and take a requires_grad kwarg, will NOT be affected by\u001b[39m\n",
      "\u001b[33m    this mode.\u001b[39m\n",
      "\n",
      "\u001b[33m    This context manager is thread local; it will not affect computation\u001b[39m\n",
      "\u001b[33m    in other threads.\u001b[39m\n",
      "\n",
      "\u001b[33m    Also functions as a decorator.\u001b[39m\n",
      "\n",
      "\u001b[33m    .. note::\u001b[39m\n",
      "\u001b[33m        No-grad is one of several mechanisms that can enable or\u001b[39m\n",
      "\u001b[33m        disable gradients locally see :ref:`locally-disable-grad-doc` for\u001b[39m\n",
      "\u001b[33m        more information on how they compare.\u001b[39m\n",
      "\n",
      "\u001b[33m    .. note::\u001b[39m\n",
      "\u001b[33m        This API does not apply to :ref:`forward-mode AD <forward-mode-ad>`.\u001b[39m\n",
      "\u001b[33m        If you want to disable forward AD for a computation, you can unpack\u001b[39m\n",
      "\u001b[33m        your dual tensors.\u001b[39m\n",
      "\n",
      "\u001b[33m    Example::\u001b[39m\n",
      "\u001b[33m        >>> # xdoctest: +SKIP\u001b[39m\n",
      "\u001b[33m        >>> x = torch.tensor([1.], requires_grad=True)\u001b[39m\n",
      "\u001b[33m        >>> with torch.no_grad():\u001b[39m\n",
      "\u001b[33m        ...     y = x * 2\u001b[39m\n",
      "\u001b[33m        >>> y.requires_grad\u001b[39m\n",
      "\u001b[33m        False\u001b[39m\n",
      "\u001b[33m        >>> @torch.no_grad()\u001b[39m\n",
      "\u001b[33m        ... def doubler(x):\u001b[39m\n",
      "\u001b[33m        ...     return x * 2\u001b[39m\n",
      "\u001b[33m        >>> z = doubler(x)\u001b[39m\n",
      "\u001b[33m        >>> z.requires_grad\u001b[39m\n",
      "\u001b[33m        False\u001b[39m\n",
      "\u001b[33m        >>> @torch.no_grad()\u001b[39m\n",
      "\u001b[33m        ... def tripler(x):\u001b[39m\n",
      "\u001b[33m        ...     return x * 3\u001b[39m\n",
      "\u001b[33m        >>> z = tripler(x)\u001b[39m\n",
      "\u001b[33m        >>> z.requires_grad\u001b[39m\n",
      "\u001b[33m        False\u001b[39m\n",
      "\u001b[33m        >>> # factory function exception\u001b[39m\n",
      "\u001b[33m        >>> with torch.no_grad():\u001b[39m\n",
      "\u001b[33m        ...     a = torch.nn.Parameter(torch.rand(10))\u001b[39m\n",
      "\u001b[33m        >>> a.requires_grad\u001b[39m\n",
      "\u001b[33m        True\u001b[39m\n",
      "\u001b[33m    \"\"\"\u001b[39m\n",
      "\n",
      "    \u001b[38;5;28;01mdef\u001b[39;00m __init__(self) -> \u001b[38;5;28;01mNone\u001b[39;00m:\n",
      "        \u001b[38;5;28;01mif\u001b[39;00m \u001b[38;5;28;01mnot\u001b[39;00m torch._jit_internal.is_scripting():\n",
      "            super().__init__()\n",
      "        self.prev = \u001b[38;5;28;01mFalse\u001b[39;00m\n",
      "\n",
      "    \u001b[38;5;28;01mdef\u001b[39;00m __enter__(self) -> \u001b[38;5;28;01mNone\u001b[39;00m:\n",
      "        self.prev = torch.is_grad_enabled()\n",
      "        torch.set_grad_enabled(\u001b[38;5;28;01mFalse\u001b[39;00m)\n",
      "\n",
      "    \u001b[38;5;28;01mdef\u001b[39;00m __exit__(self, exc_type: Any, exc_value: Any, traceback: Any) -> \u001b[38;5;28;01mNone\u001b[39;00m:\n",
      "        torch.set_grad_enabled(self.prev)\n",
      "\u001b[31mFile:\u001b[39m           ~/miniforge3/lib/python3.12/site-packages/torch/autograd/grad_mode.py\n",
      "\u001b[31mType:\u001b[39m           type\n",
      "\u001b[31mSubclasses:\u001b[39m     "
     ]
    }
   ],
   "source": [
    "??torch.no_grad"
   ]
  },
  {
   "cell_type": "raw",
   "metadata": {
    "vscode": {
     "languageId": "raw"
    }
   },
   "source": [
    "Scenario: torch.nograd() is not included below!\n",
    "When you perform abc -= abc.grad * 0.01, this operation will be tracked by PyTorch's autograd system and added to the computation graph.\n",
    "In the next iteration, when you call loss.backward(), the gradient of abc will also include the effect of the gradient update step itself. \n",
    "This is incorrect because the gradient update is not part of the model's forward computation and should not influence the gradients.\n",
    "\n",
    "Forward pass correctly defined looks like:\n",
    "abc --> quad_mse --> loss\n",
    "loss.backward basically computes the gradient of all the dependent nodes (e.g., a, b, c) with respect to the loss.\n",
    "Then, you can update the parameters using the gradients computed in the backward pass.\n",
    "The correct way to do this is to use torch.no_grad() context manager, which tells PyTorch not to track operations on the variables inside the block.\n",
    "This way, the operations performed inside the block will not be recorded in the computation graph, and you can safely update the parameters without affecting the gradients."
   ]
  },
  {
   "cell_type": "code",
   "execution_count": null,
   "metadata": {},
   "outputs": [
    {
     "name": "stdout",
     "output_type": "stream",
     "text": [
      "loss=8.44\n"
     ]
    }
   ],
   "source": [
    "# Standard part of a pytorch loop\n",
    "# torch.no_grad() is a context manager that disables gradient tracking\n",
    "# This is important because we don't want to track the gradients of the parameters\n",
    "# when we are updating them\n",
    "with torch.no_grad():\n",
    "    # -= is in place operation\n",
    "    # This will update abc in place\n",
    "    \n",
    "\n",
    "    abc -= abc.grad * 0.01\n",
    "\n",
    "    loss = quad_mse(abc)\n",
    "print(f'loss={loss:.2f}')"
   ]
  },
  {
   "cell_type": "code",
   "execution_count": null,
   "metadata": {},
   "outputs": [
    {
     "name": "stdout",
     "output_type": "stream",
     "text": [
      "step=0, loss=11.32\n",
      "step=1, loss=9.21\n",
      "step=2, loss=7.01\n",
      "step=3, loss=5.49\n",
      "step=4, loss=5.18\n"
     ]
    }
   ],
   "source": [
    "# Basic kind of optimizer\n",
    "# Gradient descent --> calculate gradient, do a descent that decreases the loss\n",
    "for i in range(5):\n",
    "    loss = quad_mse(abc)\n",
    "    loss.backward()\n",
    "    with torch.no_grad(): abc -= abc.grad * 0.01\n",
    "    print(f'step={i}, loss={loss:.2f}')"
   ]
  },
  {
   "cell_type": "code",
   "execution_count": 86,
   "metadata": {},
   "outputs": [
    {
     "data": {
      "text/plain": [
       "tensor([3.1979, 1.5729, 2.0219], requires_grad=True)"
      ]
     },
     "execution_count": 86,
     "metadata": {},
     "output_type": "execute_result"
    }
   ],
   "source": [
    "abc"
   ]
  },
  {
   "cell_type": "raw",
   "metadata": {
    "vscode": {
     "languageId": "raw"
    }
   },
   "source": [
    "42:45 The mathematical functions"
   ]
  },
  {
   "cell_type": "code",
   "execution_count": 87,
   "metadata": {},
   "outputs": [],
   "source": [
    "def rectified_linear(m,b,x):\n",
    "    y = m*x + b \n",
    "    return torch.clip(y,0.) # If it's smaller than 0, then it makes it zero\n",
    "    # return torch.where(x > 0, x * m + b, b)"
   ]
  },
  {
   "cell_type": "code",
   "execution_count": 90,
   "metadata": {},
   "outputs": [
    {
     "data": {
      "image/png": "[encoded data removed]",
      "text/plain": [
       "<Figure size 600x400 with 1 Axes>"
      ]
     },
     "metadata": {},
     "output_type": "display_data"
    }
   ],
   "source": [
    "plot_function(partial(rectified_linear,1,1 ))"
   ]
  },
  {
   "cell_type": "code",
   "execution_count": null,
   "metadata": {},
   "outputs": [
    {
     "data": {
      "application/vnd.jupyter.widget-view+json": {
       "model_id": "9e53b330e1e9453aacae9c0f8c888b6d",
       "version_major": 2,
       "version_minor": 0
      },
      "text/plain": [
       "interactive(children=(FloatSlider(value=1.5, description='m', max=4.5, min=-1.5), FloatSlider(value=1.5, descr…"
      ]
     },
     "metadata": {},
     "output_type": "display_data"
    }
   ],
   "source": [
    "@interact(m = 1.5, b = 1.5)\n",
    "\n",
    "def plot_relu(m,b):\n",
    "    plot_function(partial(rectified_linear,m,b))"
   ]
  },
  {
   "cell_type": "raw",
   "metadata": {
    "vscode": {
     "languageId": "raw"
    }
   },
   "source": [
    "43:18 ReLu: Rectified linear function\n"
   ]
  },
  {
   "cell_type": "code",
   "execution_count": 102,
   "metadata": {},
   "outputs": [],
   "source": [
    "def double_relu(m1,b1,m2,b2,x):\n",
    "    return rectified_linear(m1,b1,x) + rectified_linear(m2,b2,x)"
   ]
  },
  {
   "cell_type": "code",
   "execution_count": null,
   "metadata": {},
   "outputs": [
    {
     "data": {
      "application/vnd.jupyter.widget-view+json": {
       "model_id": "d362933dd1c5423fb3a2db7f97cb96fc",
       "version_major": 2,
       "version_minor": 0
      },
      "text/plain": [
       "interactive(children=(FloatSlider(value=1.5, description='m1', max=4.5, min=-1.5), FloatSlider(value=1.5, desc…"
      ]
     },
     "metadata": {},
     "output_type": "display_data"
    }
   ],
   "source": [
    "\n",
    "\n",
    "\n",
    "@interact(m1 = 1.5, b1 = 1.5,m2 = 1, b2 = 1.5)\n",
    "\n",
    "def plot_double_relu(m1,b1,m2,b2):\n",
    "    plot_function(partial(double_relu,m1,b1,m2,b2))      "
   ]
  },
  {
   "cell_type": "raw",
   "metadata": {
    "vscode": {
     "languageId": "raw"
    }
   },
   "source": [
    "45:17 Infinitely complex function\n",
    "\n",
    "49:21 A chart of all image models compared\n",
    "\n",
    "52:11 Do I have enough data?\n",
    "\n",
    "54:56 Interpret gradients in unit?\n",
    "\n",
    "56:23 Learning rate\n",
    "\n",
    "1:00:14 Matrix multiplication\n",
    "\n",
    "1:04:22 Build a regression model in spreadsheet\n",
    "\n",
    "1:16:18 Build a neuralnet by adding two regression models\n",
    "\n",
    "1:18:31 Matrix multiplication makes training faster\n",
    "\n",
    "1:21:01 Watch out! it’s chapter 4\n",
    "\n",
    "1:22:31 Create dummy variables of 3 classes\n",
    "\n",
    "1:23:34 Taste NLP\n",
    "\n",
    "1:27:29 fastai NLP library vs Hugging Face library\n",
    "\n",
    "1:28:54 Homework to prepare you for the next lesson"
   ]
  }
 ],
 "metadata": {
  "kernelspec": {
   "display_name": "base",
   "language": "python",
   "name": "python3"
  },
  "language_info": {
   "codemirror_mode": {
    "name": "ipython",
    "version": 3
   },
   "file_extension": ".py",
   "mimetype": "text/x-python",
   "name": "python",
   "nbconvert_exporter": "python",
   "pygments_lexer": "ipython3",
   "version": "3.12.9"
  }
 },
 "nbformat": 4,
 "nbformat_minor": 2
}
